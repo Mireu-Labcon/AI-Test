{
  "nbformat": 4,
  "nbformat_minor": 0,
  "metadata": {
    "colab": {
      "name": "Untitled2.ipynb",
      "provenance": [],
      "collapsed_sections": [],
      "authorship_tag": "ABX9TyMJY0nSBNURv0zjfqX6ygml"
    },
    "kernelspec": {
      "name": "python3",
      "display_name": "Python 3"
    },
    "language_info": {
      "name": "python"
    }
  },
  "cells": [
    {
      "cell_type": "code",
      "metadata": {
        "id": "RtiayWOVL6-D"
      },
      "source": [
        "import numpy as np"
      ],
      "execution_count": 2,
      "outputs": []
    },
    {
      "cell_type": "code",
      "metadata": {
        "colab": {
          "base_uri": "https://localhost:8080/"
        },
        "id": "BVxa0UexMIRg",
        "outputId": "03c5c27c-34b3-4246-c0e6-b92ac9eb7228"
      },
      "source": [
        "a = np.arange(6) # 0부터 5까지 총 6개의 숫자출력\n",
        "print(a)"
      ],
      "execution_count": 3,
      "outputs": [
        {
          "output_type": "stream",
          "name": "stdout",
          "text": [
            "[0 1 2 3 4 5]\n"
          ]
        }
      ]
    },
    {
      "cell_type": "code",
      "metadata": {
        "colab": {
          "base_uri": "https://localhost:8080/"
        },
        "id": "I6NYjpGoMWHg",
        "outputId": "bd9ac1f4-7f6d-45b3-c3f1-c900fa74741e"
      },
      "source": [
        "a = np.arange(6) # 0부터 5까지 총 6개의 숫자출력\n",
        "a = a.reshape(3,2) # 숫자을 2개씩 3줄로 출력\n",
        "print(a)"
      ],
      "execution_count": 14,
      "outputs": [
        {
          "output_type": "stream",
          "name": "stdout",
          "text": [
            "[[0 1]\n",
            " [2 3]\n",
            " [4 5]]\n"
          ]
        }
      ]
    },
    {
      "cell_type": "code",
      "metadata": {
        "colab": {
          "base_uri": "https://localhost:8080/"
        },
        "id": "yWNrtTwLbDXr",
        "outputId": "b01353a9-cb3c-43b4-9e1a-51ec39b8252d"
      },
      "source": [
        "a = np.arange(8) # 0부터 7까지 총 8개의 숫자을 가지고 온다\n",
        "print(a.reshape(2,2,2)) # 숫자을 2개씩 3줄로 출력"
      ],
      "execution_count": 17,
      "outputs": [
        {
          "output_type": "stream",
          "name": "stdout",
          "text": [
            "[[[0 1]\n",
            "  [2 3]]\n",
            "\n",
            " [[4 5]\n",
            "  [6 7]]]\n"
          ]
        }
      ]
    },
    {
      "cell_type": "code",
      "metadata": {
        "colab": {
          "base_uri": "https://localhost:8080/"
        },
        "id": "uPVCMmUXIXN0",
        "outputId": "4a2c07c5-8c98-4cb6-fd9c-daee919bea45"
      },
      "source": [
        "a = np.arange(6) # 0부터 5까지 총 6개의 숫자출력\n",
        "a = a.reshape(3,2) # 숫자을 2개씩 3줄로 출력\n",
        "print(a)\n",
        "\n",
        "a = a + 10 # a변수에있는 리스트 숫자 전부에 10씩 더한 값출력\n",
        "print(a)"
      ],
      "execution_count": 7,
      "outputs": [
        {
          "output_type": "stream",
          "name": "stdout",
          "text": [
            "[[0 1]\n",
            " [2 3]\n",
            " [4 5]]\n",
            "[[10 11]\n",
            " [12 13]\n",
            " [14 15]]\n"
          ]
        }
      ]
    }
  ]
}