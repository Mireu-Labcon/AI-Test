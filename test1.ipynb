{
  "nbformat": 4,
  "nbformat_minor": 0,
  "metadata": {
    "colab": {
      "name": "Untitled10.ipynb",
      "provenance": [],
      "collapsed_sections": [],
      "authorship_tag": "ABX9TyO3h0FPlUSm7MDwQWwB32Kg"
    },
    "kernelspec": {
      "name": "python3",
      "display_name": "Python 3"
    },
    "language_info": {
      "name": "python"
    }
  },
  "cells": [
    {
      "cell_type": "code",
      "metadata": {
        "id": "n2OZb26owyyP"
      },
      "source": [
        "from keras import models,layers\n",
        "import tensorflow as tf\n",
        "import numpy as np"
      ],
      "execution_count": 1,
      "outputs": []
    },
    {
      "cell_type": "code",
      "metadata": {
        "id": "RKVufn-mw9As"
      },
      "source": [
        "seed = 0"
      ],
      "execution_count": 2,
      "outputs": []
    },
    {
      "cell_type": "code",
      "metadata": {
        "id": "luYxinQhy64v"
      },
      "source": [
        "np.random.seed(seed)\n",
        "tf.random.set_seed(seed)"
      ],
      "execution_count": 3,
      "outputs": []
    },
    {
      "cell_type": "code",
      "metadata": {
        "id": "8fuFqazdzGvB"
      },
      "source": [
        "data_set = np.loadtxt(\"main.csv\",delimiter=\",\")"
      ],
      "execution_count": 8,
      "outputs": []
    },
    {
      "cell_type": "code",
      "metadata": {
        "id": "_2e7aw260nW1"
      },
      "source": [
        "data_x = data_set[:, 0:17]\n",
        "data_y = data_set[:, 17]\n",
        "\n",
        "print(data_x,\"\\n\\n\")\n",
        "print(data_y,\"\\n\\n\")"
      ],
      "execution_count": null,
      "outputs": []
    },
    {
      "cell_type": "code",
      "metadata": {
        "id": "iMmkQei-04Ao"
      },
      "source": [
        "model = models.Sequential()\n",
        "model.add(layers.Dense(30, input_dim=17, activation=\"relu\"))\n",
        "model.add(layers.Dense(1, activation=\"sigmoid\"))\n",
        "\n",
        "print(model.summary())"
      ],
      "execution_count": null,
      "outputs": []
    },
    {
      "cell_type": "code",
      "metadata": {
        "id": "EZvrDy3k1uWr"
      },
      "source": [
        "model.compile(loss='binary_crossentropy', optimizer='adam', metrics=['accuracy'])\n",
        "model.fit(data_x, data_y, epochs=100, batch_size=10)"
      ],
      "execution_count": null,
      "outputs": []
    },
    {
      "cell_type": "code",
      "metadata": {
        "id": "xGFX_dxj19gt"
      },
      "source": [
        "print(model.evaluate(data_x, data_y)[1])"
      ],
      "execution_count": null,
      "outputs": []
    }
  ]
}