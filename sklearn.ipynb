{
  "nbformat": 4,
  "nbformat_minor": 0,
  "metadata": {
    "colab": {
      "name": "Untitled4.ipynb",
      "provenance": [],
      "authorship_tag": "ABX9TyNt/KprxKjsIl+GvMcg2dEd"
    },
    "kernelspec": {
      "name": "python3",
      "display_name": "Python 3"
    },
    "language_info": {
      "name": "python"
    }
  },
  "cells": [
    {
      "cell_type": "code",
      "metadata": {
        "id": "yG0Udk9lTLJf"
      },
      "source": [
        "from sklearn import svm"
      ],
      "execution_count": 2,
      "outputs": []
    },
    {
      "cell_type": "code",
      "metadata": {
        "id": "TNf2M9y_TkwW"
      },
      "source": [
        "x = [[0,0],[1,1],[2,2]]\n",
        "y = [0,1,2]"
      ],
      "execution_count": 4,
      "outputs": []
    },
    {
      "cell_type": "code",
      "metadata": {
        "id": "xYRA94tETl2P"
      },
      "source": [
        "clf = svm.SVC(gamma='scale')"
      ],
      "execution_count": 6,
      "outputs": []
    },
    {
      "cell_type": "code",
      "metadata": {
        "colab": {
          "base_uri": "https://localhost:8080/"
        },
        "id": "V9fwVT5xTn3R",
        "outputId": "d523655a-3c47-42fc-93ef-f001703e621c"
      },
      "source": [
        "clf.fit(x,y)\n",
        "\n",
        "clf.predict([[3,3]])"
      ],
      "execution_count": 9,
      "outputs": [
        {
          "output_type": "execute_result",
          "data": {
            "text/plain": [
              "array([2])"
            ]
          },
          "metadata": {},
          "execution_count": 9
        }
      ]
    }
  ]
}