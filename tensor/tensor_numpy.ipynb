{
  "nbformat": 4,
  "nbformat_minor": 0,
  "metadata": {
    "colab": {
      "name": "tensor_numpy.ipynb",
      "private_outputs": true,
      "provenance": [],
      "collapsed_sections": []
    },
    "kernelspec": {
      "name": "python3",
      "display_name": "Python 3"
    },
    "language_info": {
      "name": "python"
    }
  },
  "cells": [
    {
      "cell_type": "code",
      "metadata": {
        "id": "WTsGVXnIMtNu"
      },
      "source": [
        "import numpy"
      ],
      "execution_count": null,
      "outputs": []
    },
    {
      "cell_type": "code",
      "metadata": {
        "id": "brErhFtYMx5B"
      },
      "source": [
        "print(numpy.__version__)"
      ],
      "execution_count": null,
      "outputs": []
    },
    {
      "cell_type": "code",
      "metadata": {
        "id": "CMOreTtLMz0V"
      },
      "source": [
        "dimension1 = 1 # 1차원 데이터\n",
        "dimension1data = numpy.array(dimension1)\n",
        "text_data = \"{0}차원, 데이터값 : {1}\".format(dimension1data.ndim+1, dimension1)\n",
        "print(text_data)"
      ],
      "execution_count": null,
      "outputs": []
    },
    {
      "cell_type": "code",
      "metadata": {
        "id": "AilDjwejM0dm"
      },
      "source": [
        "dimension2 = [1,2,3,4,5] # 2차원 데이터\n",
        "dimension2data = numpy.array(dimension2)\n",
        "text_data = \"{0}차원, 데이터값 : {1}\".format(dimension2data.ndim+1, dimension2)\n",
        "print(text_data)"
      ],
      "execution_count": null,
      "outputs": []
    },
    {
      "cell_type": "code",
      "metadata": {
        "id": "_ELXvee2Nj20"
      },
      "source": [
        "dimension3 = [1,2,3,4,5],[1,2,3,4,5],[1,2,3,4,5] # 3차원 데이터\n",
        "dimension3data = numpy.array(dimension3)\n",
        "text_data = \"{0}차원, 데이터값 : {1}\".format(dimension3data.ndim+1, dimension3)\n",
        "print(text_data)"
      ],
      "execution_count": null,
      "outputs": []
    },
    {
      "cell_type": "markdown",
      "metadata": {
        "id": "IP3A8LZbOVJj"
      },
      "source": [
        "https://rekt77.tistory.com/102"
      ]
    }
  ]
}