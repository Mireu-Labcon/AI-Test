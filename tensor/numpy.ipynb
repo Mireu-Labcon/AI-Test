{
  "cells": [
    {
      "cell_type": "code",
      "execution_count": 3,
      "metadata": {
        "id": "RtiayWOVL6-D"
      },
      "outputs": [],
      "source": [
        "import numpy"
      ]
    },
    {
      "cell_type": "code",
      "execution_count": 23,
      "metadata": {
        "colab": {
          "base_uri": "https://localhost:8080/"
        },
        "id": "BVxa0UexMIRg",
        "outputId": "03c5c27c-34b3-4246-c0e6-b92ac9eb7228"
      },
      "outputs": [
        {
          "name": "stdout",
          "output_type": "stream",
          "text": [
            "2 차원, 데이터 리스트 [0 1 2 3 4 5]\n"
          ]
        }
      ],
      "source": [
        "data = numpy.arange(6) # 0부터 5까지 총 6개의 숫자출력\n",
        "text = \"{0} 차원, 데이터 리스트 {1}\".format(data.ndim+1, data)\n",
        "print(text)"
      ]
    },
    {
      "cell_type": "code",
      "execution_count": 26,
      "metadata": {
        "colab": {
          "base_uri": "https://localhost:8080/"
        },
        "id": "I6NYjpGoMWHg",
        "outputId": "bd9ac1f4-7f6d-45b3-c3f1-c900fa74741e"
      },
      "outputs": [
        {
          "name": "stdout",
          "output_type": "stream",
          "text": [
            "2 차원, \n",
            "데이터 리스트 \n",
            "[[0 1]\n",
            " [2 3]\n",
            " [4 5]]\n"
          ]
        }
      ],
      "source": [
        "data = numpy.arange(6) # 0부터 5까지 총 6개의 숫자출력\n",
        "text = \"{0} 차원, \\n데이터 리스트 \\n{1}\".format(data.ndim+1, data.reshape(3,2))\n",
        "print(text)"
      ]
    },
    {
      "cell_type": "code",
      "execution_count": 31,
      "metadata": {
        "colab": {
          "base_uri": "https://localhost:8080/"
        },
        "id": "yWNrtTwLbDXr",
        "outputId": "b01353a9-cb3c-43b4-9e1a-51ec39b8252d"
      },
      "outputs": [
        {
          "name": "stdout",
          "output_type": "stream",
          "text": [
            "2 차원, \n",
            "데이터 리스트 \n",
            "[[[0 1]\n",
            "  [2 3]]\n",
            "\n",
            " [[4 5]\n",
            "  [6 7]]]\n"
          ]
        }
      ],
      "source": [
        "data = numpy.arange(8)\n",
        "text = \"{0} 차원, \\n데이터 리스트 \\n{1}\".format(data.ndim+1, data.reshape(2,2,2))\n",
        "print(text)"
      ]
    },
    {
      "cell_type": "code",
      "execution_count": 36,
      "metadata": {
        "colab": {
          "base_uri": "https://localhost:8080/"
        },
        "id": "uPVCMmUXIXN0",
        "outputId": "4a2c07c5-8c98-4cb6-fd9c-daee919bea45"
      },
      "outputs": [
        {
          "name": "stdout",
          "output_type": "stream",
          "text": [
            "기본 리스트 데이터\n",
            "[[0 1]\n",
            " [2 3]\n",
            " [4 5]]\n",
            "\n",
            "추가 데이터 리스트\n",
            "[[10 11]\n",
            " [12 13]\n",
            " [14 15]]\n"
          ]
        }
      ],
      "source": [
        "data = numpy.arange(6)\n",
        "a = data.reshape(3,2)\n",
        "print(\"기본 리스트 데이터\\n{0}\\n\".format(a))\n",
        "\n",
        "a = a + 10 # a변수에있는 리스트 숫자 전부에 10씩 더한 값출력\n",
        "print(\"추가 데이터 리스트\\n{0}\".format(a))"
      ]
    }
  ],
  "metadata": {
    "colab": {
      "authorship_tag": "ABX9TyMJY0nSBNURv0zjfqX6ygml",
      "collapsed_sections": [],
      "name": "Untitled2.ipynb",
      "provenance": []
    },
    "kernelspec": {
      "display_name": "Python 3",
      "name": "python3"
    },
    "language_info": {
      "name": "python",
      "version": "3.9.7"
    }
  },
  "nbformat": 4,
  "nbformat_minor": 0
}
