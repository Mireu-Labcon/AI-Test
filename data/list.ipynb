{
  "nbformat": 4,
  "nbformat_minor": 0,
  "metadata": {
    "colab": {
      "name": "Untitled3.ipynb",
      "provenance": [],
      "collapsed_sections": [],
      "authorship_tag": "ABX9TyPV7j1MZLck1FFcxEyMIoIq"
    },
    "kernelspec": {
      "name": "python3",
      "display_name": "Python 3"
    },
    "language_info": {
      "name": "python"
    }
  },
  "cells": [
    {
      "cell_type": "code",
      "metadata": {
        "id": "6Xh_mhHbFVXr"
      },
      "source": [
        "import pandas as pd"
      ],
      "execution_count": 18,
      "outputs": []
    },
    {
      "cell_type": "code",
      "metadata": {
        "colab": {
          "base_uri": "https://localhost:8080/"
        },
        "id": "itokij6QFbQG",
        "outputId": "f8012ebf-2207-4bf7-b73e-ac83a953aa00"
      },
      "source": [
        "list1 = [\"hello\", 2, 4.5, \"AB\", True] # 리스트 데이터\n",
        "\n",
        "sr1 = pd.Series(list1) # 리스트 정리 출력\n",
        "print(sr1)"
      ],
      "execution_count": 19,
      "outputs": [
        {
          "output_type": "stream",
          "name": "stdout",
          "text": [
            "0    hello\n",
            "1        2\n",
            "2      4.5\n",
            "3       AB\n",
            "4     True\n",
            "dtype: object\n"
          ]
        }
      ]
    },
    {
      "cell_type": "code",
      "metadata": {
        "colab": {
          "base_uri": "https://localhost:8080/"
        },
        "id": "JSVOxOP0HAcv",
        "outputId": "4433acab-e7a3-4812-bab3-35664f5d598f"
      },
      "source": [
        "list1 = {'A':'hello', 'B':2, 'C':4.5, 'D':'AB', 'E':True} # 리스트 데이터\n",
        "\n",
        "sr1 = pd.Series(list1) # 리스트 정리 출력\n",
        "print(sr1)"
      ],
      "execution_count": 20,
      "outputs": [
        {
          "output_type": "stream",
          "name": "stdout",
          "text": [
            "A    hello\n",
            "B        2\n",
            "C      4.5\n",
            "D       AB\n",
            "E     True\n",
            "dtype: object\n"
          ]
        }
      ]
    },
    {
      "cell_type": "code",
      "metadata": {
        "colab": {
          "base_uri": "https://localhost:8080/"
        },
        "id": "InzovknEIASo",
        "outputId": "20b0381e-2428-4739-8dbf-e62de83ad70d"
      },
      "source": [
        "list1 = {'a':[1,2,3],'b':[4,5,6],'c':[7,8,9],'d':[10,11,12]} # 리스트 데이터\n",
        "\n",
        "sr1 = pd.DataFrame(list1) # 리스트 정리 출력\n",
        "print(sr1)"
      ],
      "execution_count": 36,
      "outputs": [
        {
          "output_type": "stream",
          "name": "stdout",
          "text": [
            "   a  b  c   d\n",
            "0  1  4  7  10\n",
            "1  2  5  8  11\n",
            "2  3  6  9  12\n"
          ]
        }
      ]
    },
    {
      "cell_type": "code",
      "metadata": {
        "id": "3x71PL6tIoMt"
      },
      "source": [
        "df1 = pd.DataFrame([[20, \"test\", \"test\", \"test\", True],\n",
        "              [20, \"test\", \"test\", \"test\", False],\n",
        "              [20, \"test\", \"test\", \"test\", True]],\n",
        "              index=[\"string1\", \"string2\", \"string3\"],\n",
        "              columns=[\"int\",\"string-1\",\"string-2\",\"string-3\",\"bool\"]) # 리스트 데이터"
      ],
      "execution_count": 29,
      "outputs": []
    },
    {
      "cell_type": "code",
      "metadata": {
        "colab": {
          "base_uri": "https://localhost:8080/"
        },
        "id": "xrOjFAdzAosL",
        "outputId": "b5db8bad-cc6b-4bf3-f029-837503098731"
      },
      "source": [
        "print(df1,\"\\n\\n\") # 리스트 전부 출력\n",
        "\n",
        "print(df1.index,\"\\n\\n\")  # 리스트 행이름 출력\n",
        "\n",
        "print(df1.columns,\"\\n\\n\") # 리스트 정의 출력\n",
        "\n",
        "print(df1.loc[\"string1\"],\"\\n\\n\") # 리스트 지정 행 출력\n",
        "\n",
        "print(df1[\"int\"],\"\\n\\n\")  # 리스트 지정 정의 출력"
      ],
      "execution_count": 38,
      "outputs": [
        {
          "output_type": "stream",
          "name": "stdout",
          "text": [
            "         int string-1 string-2 string-3   bool\n",
            "string1   20     test     test     test   True\n",
            "string2   20     test     test     test  False\n",
            "string3   20     test     test     test   True \n",
            "\n",
            "\n",
            "Index(['string1', 'string2', 'string3'], dtype='object') \n",
            "\n",
            "\n",
            "Index(['int', 'string-1', 'string-2', 'string-3', 'bool'], dtype='object') \n",
            "\n",
            "\n",
            "int           20\n",
            "string-1    test\n",
            "string-2    test\n",
            "string-3    test\n",
            "bool        True\n",
            "Name: string1, dtype: object \n",
            "\n",
            "\n",
            "string1    20\n",
            "string2    20\n",
            "string3    20\n",
            "Name: int, dtype: int64 \n",
            "\n",
            "\n"
          ]
        }
      ]
    },
    {
      "cell_type": "code",
      "metadata": {
        "id": "UYU5fDJ5LfIA"
      },
      "source": [
        ""
      ],
      "execution_count": null,
      "outputs": []
    }
  ]
}